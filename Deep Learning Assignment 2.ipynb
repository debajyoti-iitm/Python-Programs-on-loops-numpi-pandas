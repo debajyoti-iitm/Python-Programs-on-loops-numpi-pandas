{
 "cells": [
  {
   "cell_type": "code",
   "execution_count": 1,
   "metadata": {},
   "outputs": [
    {
     "data": {
      "image/png": "[encoded data removed]",
      "text/plain": [
       "<Figure size 432x288 with 4 Axes>"
      ]
     },
     "metadata": {
      "needs_background": "light"
     },
     "output_type": "display_data"
    }
   ],
   "source": [
    "#Question 7: Write a python program to plot a histogram for iris.csv dataset.\n",
    "from matplotlib import pyplot\n",
    "from pandas import read_csv\n",
    "with open (\"iris.csv\",\"r\") as iris:\n",
    "    data=read_csv(iris)\n",
    "    data.hist()\n",
    "    pyplot.show()"
   ]
  },
  {
   "cell_type": "code",
   "execution_count": 2,
   "metadata": {},
   "outputs": [
    {
     "name": "stdout",
     "output_type": "stream",
     "text": [
      "\n",
      " A sequential array with a negative step: \n",
      " [50 48 46 44 42 40 38 36 34 32 30 28 26 24 22 20 18 16 14 12 10  8  6  4\n",
      "  2]\n",
      "\n",
      " Elements at these indices are:\n",
      " [20 50 40]\n"
     ]
    }
   ],
   "source": [
    "#Question 6: Write a python program demonstrate indexing in NumPy array.\n",
    "import numpy as np\n",
    "# Create a sequence of integers from 50 to 1 with a step of -2\n",
    "a = np.arange(50, 1, -2)\n",
    "print(\"\\n A sequential array with a negative step: \\n\",a)\n",
    "# Indexes are specified inside the np.array method.\n",
    "newarr = a[np.array([15, 0, 5 ])]\n",
    "print(\"\\n Elements at these indices are:\\n\",newarr)"
   ]
  },
  {
   "cell_type": "code",
   "execution_count": 4,
   "metadata": {},
   "outputs": [
    {
     "name": "stdout",
     "output_type": "stream",
     "text": [
      "(150, 5)\n",
      "   sepal_length  sepal_width  petal_length  petal_width species\n",
      "0           5.1          3.5           1.4          0.2  setosa\n",
      "1           4.9          3.0           1.4          0.2  setosa\n",
      "2           4.7          3.2           1.3          0.2  setosa\n",
      "3           4.6          3.1           1.5          0.2  setosa\n",
      "4           5.0          3.6           1.4          0.2  setosa\n",
      "5           5.4          3.9           1.7          0.4  setosa\n",
      "6           4.6          3.4           1.4          0.3  setosa\n",
      "7           5.0          3.4           1.5          0.2  setosa\n",
      "8           4.4          2.9           1.4          0.2  setosa\n",
      "9           4.9          3.1           1.5          0.1  setosa\n"
     ]
    }
   ],
   "source": [
    "#Question 5: What are dataframe in Pandas? Demonstrate with by converting the csv file into a dataframe.\n",
    "import csv\n",
    "import numpy as np\n",
    "path = r\"C:\\Users\\debaj\\Pictures\\Python files\\iris.csv\"\n",
    "data = read_csv(path)\n",
    "print(data.shape)\n",
    "print(data[:10])"
   ]
  },
  {
   "cell_type": "code",
   "execution_count": 11,
   "metadata": {},
   "outputs": [
    {
     "name": "stdout",
     "output_type": "stream",
     "text": [
      "(768, 9)\n",
      "[[6.000e+00 1.480e+02 7.200e+01 3.500e+01 0.000e+00 3.360e+01 6.270e-01\n",
      "  5.000e+01 1.000e+00]\n",
      " [1.000e+00 8.500e+01 6.600e+01 2.900e+01 0.000e+00 2.660e+01 3.510e-01\n",
      "  3.100e+01 0.000e+00]\n",
      " [8.000e+00 1.830e+02 6.400e+01 0.000e+00 0.000e+00 2.330e+01 6.720e-01\n",
      "  3.200e+01 1.000e+00]\n",
      " [1.000e+00 8.900e+01 6.600e+01 2.300e+01 9.400e+01 2.810e+01 1.670e-01\n",
      "  2.100e+01 0.000e+00]\n",
      " [0.000e+00 1.370e+02 4.000e+01 3.500e+01 1.680e+02 4.310e+01 2.288e+00\n",
      "  3.300e+01 1.000e+00]]\n"
     ]
    }
   ],
   "source": [
    "#Question 4: Write a python load a CSV file into your python notebook using csv and NumPy module.\n",
    "from numpy import loadtxt\n",
    "path = r\"C:\\Users\\debaj\\Pictures\\Python files\\pima-indians-diabetes.csv\"\n",
    "datapath= open(path, 'r')\n",
    "data = loadtxt(datapath, delimiter=\",\")\n",
    "print(data.shape)\n",
    "print(data[:5])"
   ]
  },
  {
   "cell_type": "code",
   "execution_count": 12,
   "metadata": {},
   "outputs": [
    {
     "name": "stdout",
     "output_type": "stream",
     "text": [
      "Average of the list = 35.75\n"
     ]
    }
   ],
   "source": [
    "#Question 3: Write a program that calculates the average student height from a List of heights.\n",
    "# Python program to get average of a list\n",
    "lst=[180, 124, 165, 173, 189, 169, 146]\n",
    "def Average(lst):\n",
    "    return sum(lst) / len(lst)\n",
    "# Driver Code\n",
    "lst = [15, 9, 55, 41, 35, 20, 62, 49]\n",
    "average = Average(lst) \n",
    "# Printing average of the list\n",
    "print(\"Average of the list =\", round(average, 2))"
   ]
  },
  {
   "cell_type": "code",
   "execution_count": 13,
   "metadata": {},
   "outputs": [
    {
     "name": "stdout",
     "output_type": "stream",
     "text": [
      "Welcome to Pizza Planet Deliveries!\n",
      "\n",
      "What size pizza do you want? S, M, or L \n",
      "L\n",
      "Do you want pepperoni? Y or N \n",
      "Y\n",
      "Do you want extra cheese? Y or N \n",
      "Y\n",
      "Do you want thin crust? Y or N \n",
      "N\n",
      "Your final bill is: Rs.290.\n"
     ]
    }
   ],
   "source": [
    "#1. Python program for pizza order\n",
    "#Ref: https://github.com/AkankshaCodes/pizza_order/blob/main/DesirePizza.py\n",
    "print(\"Welcome to Pizza Planet!\\n\")\n",
    "size = input(\"What size pizza do you want? S, M, or L \\n\") #input pizza size\n",
    "add_pepperoni = input(\"Do you want pepperoni? Y or N \\n\") #input pepperoni\n",
    "extra_cheese = input(\"Do you want extra cheese? Y or N \\n\")\n",
    "crust = input(\"Do you want thin crust? Y or N \\n\")\n",
    "bill = 0  #initializing bill value at 0\n",
    "\n",
    "if size == \"S\":\n",
    "    bill += 150\n",
    "elif size == \"M\":\n",
    "    bill += 200\n",
    "else:\n",
    "    bill += 250\n",
    "\n",
    "if add_pepperoni == \"Y\":\n",
    "    if size == \"S\":\n",
    "      bill += 20\n",
    "    else:\n",
    "      bill += 30\n",
    "    \n",
    "if extra_cheese == \"Y\":\n",
    "    bill += 10\n",
    "  \n",
    "if crust == \"Y\":\n",
    "    bill += 50\n",
    "  \n",
    "print(f\"Your final bill is: Rs.{bill}.\")"
   ]
  },
  {
   "cell_type": "code",
   "execution_count": 16,
   "metadata": {},
   "outputs": [
    {
     "name": "stdout",
     "output_type": "stream",
     "text": [
      "Welcome to the Love Calculator!\n",
      "What is your name? \n",
      "Debajyoti\n",
      "What is his / her name? \n",
      "Sumana\n",
      "Your score is 32.\n"
     ]
    }
   ],
   "source": [
    "#Question 2: Write a program that tests the compatibility between two people. (Love Calculator)\n",
    "#Ref: https://github.com/Janah7/Love-Calculator/blob/main/loveCalculator.py\n",
    "# This is a Love Calculator\n",
    "print(\"Welcome to the Love Calculator!\")\n",
    "name1 = input(\"What is your name? \\n\")\n",
    "name2 = input(\"What is his / her name? \\n\")\n",
    "\n",
    "#comibing both strings (name1 and name2)\n",
    "combined_names = name1 + name2\n",
    "lower_names = combined_names.lower()\n",
    "t = lower_names.count(\"t\")\n",
    "r = lower_names.count(\"r\")\n",
    "u = lower_names.count(\"u\")\n",
    "e = lower_names.count(\"e\")\n",
    "first_digit = t + r + u + e\n",
    "\n",
    "l = lower_names.count(\"l\")\n",
    "o = lower_names.count(\"o\")\n",
    "v = lower_names.count(\"v\")\n",
    "e = lower_names.count(\"e\")\n",
    "second_digit = l + o + v + e\n",
    "\n",
    "score = int(str(first_digit) + str(second_digit))\n",
    "\n",
    "if (score < 10) or (score > 90):\n",
    "  print(f\"Your score is {score}, you go together like coke and mentos.\")\n",
    "elif (score >= 40) and (score <= 50):\n",
    "  print(f\"Your score is {score}, you are alright together.\")\n",
    "else:\n",
    "  print(f\"Your score is {score}.\")\n",
    "  "
   ]
  },
  {
   "cell_type": "code",
   "execution_count": null,
   "metadata": {},
   "outputs": [],
   "source": []
  }
 ],
 "metadata": {
  "kernelspec": {
   "display_name": "Python 3",
   "language": "python",
   "name": "python3"
  },
  "language_info": {
   "codemirror_mode": {
    "name": "ipython",
    "version": 3
   },
   "file_extension": ".py",
   "mimetype": "text/x-python",
   "name": "python",
   "nbconvert_exporter": "python",
   "pygments_lexer": "ipython3",
   "version": "3.8.5"
  }
 },
 "nbformat": 4,
 "nbformat_minor": 4
}
